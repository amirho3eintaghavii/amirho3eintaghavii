{
  "nbformat": 4,
  "nbformat_minor": 0,
  "metadata": {
    "colab": {
      "provenance": [],
      "authorship_tag": "ABX9TyNbRsZUx/x6IJWVDwWrS0F5",
      "include_colab_link": true
    },
    "kernelspec": {
      "name": "python3",
      "display_name": "Python 3"
    },
    "language_info": {
      "name": "python"
    }
  },
  "cells": [
    {
      "cell_type": "markdown",
      "metadata": {
        "id": "view-in-github",
        "colab_type": "text"
      },
      "source": [
        "<a href=\"https://colab.research.google.com/github/amirho3eintaghavii/amirho3eintaghavii/blob/main/UniAzad.ipynb\" target=\"_parent\"><img src=\"https://colab.research.google.com/assets/colab-badge.svg\" alt=\"Open In Colab\"/></a>"
      ]
    },
    {
      "cell_type": "code",
      "execution_count": 2,
      "metadata": {
        "colab": {
          "base_uri": "https://localhost:8080/"
        },
        "id": "iPQJSmrS6VXl",
        "outputId": "e1ba1cad-c901-4a69-94bb-88780750663e"
      },
      "outputs": [
        {
          "output_type": "stream",
          "name": "stdout",
          "text": [
            "hello, world\n"
          ]
        }
      ],
      "source": [
        "print (\"hello, world\")"
      ]
    },
    {
      "cell_type": "code",
      "source": [
        "print(\"\"\" ali alizade\n",
        "is best student\n",
        " un my class\"\"\")\n"
      ],
      "metadata": {
        "colab": {
          "base_uri": "https://localhost:8080/"
        },
        "id": "pu3jIgiB9Lqa",
        "outputId": "3c953a3c-2e8b-4e08-dd98-e4adad0219af"
      },
      "execution_count": 3,
      "outputs": [
        {
          "output_type": "stream",
          "name": "stdout",
          "text": [
            " ali alizade \n",
            "is best student\n",
            " un my class\n"
          ]
        }
      ]
    },
    {
      "cell_type": "code",
      "source": [
        "#print (\"print hello world\")"
      ],
      "metadata": {
        "id": "PlU1PjPp9tdI"
      },
      "execution_count": 6,
      "outputs": []
    },
    {
      "cell_type": "code",
      "source": [
        "# Input the three numbers\n",
        "num1 = 33\n",
        "num2 = 28\n",
        "num3 = 13\n",
        "\n",
        "# Calculate the average\n",
        "average = (num1 + num2 + num3) / 3\n",
        "\n",
        "# Print the result\n",
        "print(\"The average is:\", average)"
      ],
      "metadata": {
        "colab": {
          "base_uri": "https://localhost:8080/"
        },
        "id": "XK00uaub_y60",
        "outputId": "8c57ba13-30d8-45c7-df54-5bc91b592ea0"
      },
      "execution_count": 5,
      "outputs": [
        {
          "output_type": "stream",
          "name": "stdout",
          "text": [
            "The average is: 24.666666666666668\n"
          ]
        }
      ]
    },
    {
      "cell_type": "code",
      "source": [
        "# Input the three numbers\n",
        "num1 = 33\n",
        "num2 = 28\n",
        "num3 = 13\n",
        "\n",
        "# Calculate the average\n",
        "average = (num1 + num2 + num3) / 3\n",
        "\n",
        "# Print the result\n",
        "print(\"The average is:\", average)\n",
        "print(num1)\n",
        "print(num2)\n",
        "print(num3)\n",
        "print('first number is{}'.format(num1))\n",
        "print('first number is{} and second number is {}'.format(num1,num2))"
      ],
      "metadata": {
        "colab": {
          "base_uri": "https://localhost:8080/"
        },
        "id": "NHvyU4l6AJGC",
        "outputId": "93d7cb5c-d0ca-4677-9be2-fb577ff6cd61"
      },
      "execution_count": 8,
      "outputs": [
        {
          "output_type": "stream",
          "name": "stdout",
          "text": [
            "The average is: 24.666666666666668\n",
            "33\n",
            "28\n",
            "13\n",
            "first number is33\n",
            "first number is33 and second number is 28\n"
          ]
        }
      ]
    },
    {
      "cell_type": "code",
      "source": [
        "#\n",
        "x=input()\n",
        "print(x)"
      ],
      "metadata": {
        "colab": {
          "base_uri": "https://localhost:8080/"
        },
        "id": "PBhpSC0UBY9p",
        "outputId": "ccdd8a43-5773-4809-c7f4-385640556331"
      },
      "execution_count": 10,
      "outputs": [
        {
          "output_type": "stream",
          "name": "stdout",
          "text": [
            "25\n",
            "25\n"
          ]
        }
      ]
    },
    {
      "cell_type": "code",
      "source": [
        "x=input(\"enter number\")\n",
        "print(x)\n",
        "\n"
      ],
      "metadata": {
        "colab": {
          "base_uri": "https://localhost:8080/"
        },
        "id": "MTUwoCbJB8sa",
        "outputId": "e5fa4491-06e9-4dce-b1e0-71d56db17bf7"
      },
      "execution_count": 12,
      "outputs": [
        {
          "output_type": "stream",
          "name": "stdout",
          "text": [
            "enter number27\n",
            "27\n"
          ]
        }
      ]
    },
    {
      "cell_type": "code",
      "source": [
        "x=input(\"enter numbers\")\n",
        "print (x)"
      ],
      "metadata": {
        "colab": {
          "base_uri": "https://localhost:8080/"
        },
        "id": "XDsBPby7CVfn",
        "outputId": "6614626e-0a20-45e2-e86f-f23ffbe1dcca"
      },
      "execution_count": 14,
      "outputs": [
        {
          "output_type": "stream",
          "name": "stdout",
          "text": [
            "enter numbers27 , 2\n",
            "27 , 2\n"
          ]
        }
      ]
    },
    {
      "cell_type": "code",
      "source": [
        "x=int(input(\"enter first number \"))\n",
        "y=int(input(\"enter second number \"))\n",
        "print(\"The first number is {} and the Second number is {} and sum is: {}\" .format(x,y,x+y))"
      ],
      "metadata": {
        "colab": {
          "base_uri": "https://localhost:8080/"
        },
        "id": "C1lxBlEkFF1R",
        "outputId": "f133b41f-e7dd-43ca-bc13-716eb333be17"
      },
      "execution_count": 19,
      "outputs": [
        {
          "output_type": "stream",
          "name": "stdout",
          "text": [
            "enter first number 10\n",
            "enter second number 20\n",
            "The first number is 10 and the Second number is 20 and sum is: 30\n"
          ]
        }
      ]
    },
    {
      "cell_type": "code",
      "source": [
        "x=int(input(\"tool mostatil ra vared konid \" ))\n",
        "y=int(input(\"arz mostatil ra vared konid \" ))\n",
        "msahat=x*y\n",
        "print(msahat)"
      ],
      "metadata": {
        "colab": {
          "base_uri": "https://localhost:8080/"
        },
        "id": "Y7wo4ccZDYw_",
        "outputId": "dc328871-f5af-4198-81af-4cf0ecb58964"
      },
      "execution_count": 17,
      "outputs": [
        {
          "output_type": "stream",
          "name": "stdout",
          "text": [
            "tool mostatil ra vared konid 2\n",
            "arz mostatil ra vared konid 3\n",
            "6\n"
          ]
        }
      ]
    },
    {
      "cell_type": "code",
      "source": [
        "x=int(input(\"enter number\"))\n",
        "if x>0 :\n",
        "  print(x)\n",
        "else :\n",
        "  print(-1*x)"
      ],
      "metadata": {
        "colab": {
          "base_uri": "https://localhost:8080/"
        },
        "id": "J7Pcf6OjGbNu",
        "outputId": "d52a22c7-6054-42fe-bcfb-54f6f4ec2688"
      },
      "execution_count": 25,
      "outputs": [
        {
          "output_type": "stream",
          "name": "stdout",
          "text": [
            "enter number-10\n",
            "10\n"
          ]
        }
      ]
    },
    {
      "cell_type": "code",
      "source": [
        "x=int(input(\"enter first number \"))\n",
        "y=int(input(\"enter Second number \"))\n",
        "if x>y:\n",
        "  print(x)\n",
        "elif x<y:\n",
        "  print(y)\n",
        "else:\n",
        "  print(\"same\")\n"
      ],
      "metadata": {
        "colab": {
          "base_uri": "https://localhost:8080/"
        },
        "id": "DgewCwWqJCeZ",
        "outputId": "a8a10652-0f34-4671-e94d-13fa05184776"
      },
      "execution_count": 32,
      "outputs": [
        {
          "output_type": "stream",
          "name": "stdout",
          "text": [
            "enter first number 2\n",
            "enter Second number 2\n",
            "same\n"
          ]
        }
      ]
    },
    {
      "cell_type": "code",
      "source": [
        "a=[1,2,3,4,5]\n",
        "print(a)\n",
        "\n",
        "print(a[0:2])\n",
        "print(a[:2])\n",
        "print(a[-1])\n",
        "print(a[-3:-1])\n",
        "print(a[:2])\n",
        "print(a[2:])"
      ],
      "metadata": {
        "colab": {
          "base_uri": "https://localhost:8080/"
        },
        "id": "h-qu4IUSMQrz",
        "outputId": "3042f6ff-2e56-4923-abcc-31fbbf717ef2"
      },
      "execution_count": 36,
      "outputs": [
        {
          "output_type": "stream",
          "name": "stdout",
          "text": [
            "[1, 2, 3, 4, 5]\n",
            "[1, 2]\n",
            "[1, 2]\n",
            "5\n",
            "[3, 4]\n",
            "[1, 2]\n",
            "[3, 4, 5]\n"
          ]
        }
      ]
    },
    {
      "cell_type": "code",
      "source": [
        "a[2]=10\n",
        "a\n"
      ],
      "metadata": {
        "colab": {
          "base_uri": "https://localhost:8080/"
        },
        "id": "rhKHPc1IO7ix",
        "outputId": "644c8309-6f27-4b72-813b-223d600abd35"
      },
      "execution_count": 37,
      "outputs": [
        {
          "output_type": "execute_result",
          "data": {
            "text/plain": [
              "[1, 2, 10, 4, 5]"
            ]
          },
          "metadata": {},
          "execution_count": 37
        }
      ]
    },
    {
      "cell_type": "code",
      "source": [
        "for i in range(5):\n",
        "  print(i)"
      ],
      "metadata": {
        "colab": {
          "base_uri": "https://localhost:8080/"
        },
        "id": "9Go2pqTQQDIT",
        "outputId": "d86f0923-0911-42d0-e112-96babdebad94"
      },
      "execution_count": 39,
      "outputs": [
        {
          "output_type": "stream",
          "name": "stdout",
          "text": [
            "0\n",
            "1\n",
            "2\n",
            "3\n",
            "4\n"
          ]
        }
      ]
    },
    {
      "cell_type": "code",
      "source": [
        "for i in range(10,20):\n",
        "  print(i)"
      ],
      "metadata": {
        "colab": {
          "base_uri": "https://localhost:8080/"
        },
        "id": "Fm5lFxdFQX-I",
        "outputId": "d1f6f071-56d7-4816-9587-eb038a8b9205"
      },
      "execution_count": 41,
      "outputs": [
        {
          "output_type": "stream",
          "name": "stdout",
          "text": [
            "10\n",
            "11\n",
            "12\n",
            "13\n",
            "14\n",
            "15\n",
            "16\n",
            "17\n",
            "18\n",
            "19\n"
          ]
        }
      ]
    },
    {
      "cell_type": "code",
      "source": [
        "for i in range(10,51,3):\n",
        "  print(i)"
      ],
      "metadata": {
        "colab": {
          "base_uri": "https://localhost:8080/"
        },
        "id": "FhzEtSF8QrH3",
        "outputId": "f9cc240e-2988-4dbb-ba90-f98be29fa271"
      },
      "execution_count": 42,
      "outputs": [
        {
          "output_type": "stream",
          "name": "stdout",
          "text": [
            "10\n",
            "13\n",
            "16\n",
            "19\n",
            "22\n",
            "25\n",
            "28\n",
            "31\n",
            "34\n",
            "37\n",
            "40\n",
            "43\n",
            "46\n",
            "49\n"
          ]
        }
      ]
    },
    {
      "cell_type": "code",
      "source": [
        "for i in range(100,80,-1):\n",
        "  print(i)"
      ],
      "metadata": {
        "colab": {
          "base_uri": "https://localhost:8080/"
        },
        "id": "barhlgTgRA32",
        "outputId": "3e1db205-364d-445f-8035-be872ca9b664"
      },
      "execution_count": 43,
      "outputs": [
        {
          "output_type": "stream",
          "name": "stdout",
          "text": [
            "100\n",
            "99\n",
            "98\n",
            "97\n",
            "96\n",
            "95\n",
            "94\n",
            "93\n",
            "92\n",
            "91\n",
            "90\n",
            "89\n",
            "88\n",
            "87\n",
            "86\n",
            "85\n",
            "84\n",
            "83\n",
            "82\n",
            "81\n"
          ]
        }
      ]
    },
    {
      "cell_type": "code",
      "source": [
        "numbers=int(input(\"enter numer \"))\n",
        "result=1\n",
        "for i in range(1,numbers+1):\n",
        "  result*=i\n",
        "\n",
        "print(result)"
      ],
      "metadata": {
        "colab": {
          "base_uri": "https://localhost:8080/"
        },
        "id": "vo1WtnTORSJT",
        "outputId": "138ea11e-6e5b-4d6a-ed33-ec3f5e217ec6"
      },
      "execution_count": 46,
      "outputs": [
        {
          "output_type": "stream",
          "name": "stdout",
          "text": [
            "enter numer 4\n",
            "24\n"
          ]
        }
      ]
    },
    {
      "cell_type": "code",
      "source": [
        "def factorial():\n",
        "  numbers=int(input(\"enter numer \"))\n",
        "  result=1\n",
        "  for i in range(1,numbers+1):\n",
        "    result*=i\n",
        "  print(result)\n",
        "\n",
        "\n",
        "\n"
      ],
      "metadata": {
        "id": "rENboV-bUe5f"
      },
      "execution_count": 50,
      "outputs": []
    },
    {
      "cell_type": "code",
      "source": [
        "factorial()"
      ],
      "metadata": {
        "colab": {
          "base_uri": "https://localhost:8080/"
        },
        "id": "tQ77L6lCU9-P",
        "outputId": "9b5ad202-2c98-4bd6-a7d7-c5e76bd4b801"
      },
      "execution_count": 51,
      "outputs": [
        {
          "output_type": "stream",
          "name": "stdout",
          "text": [
            "enter numer 10\n",
            "3628800\n"
          ]
        }
      ]
    }
  ]
}